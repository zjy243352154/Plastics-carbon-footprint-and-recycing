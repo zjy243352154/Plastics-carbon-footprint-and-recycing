{
 "cells": [
  {
   "cell_type": "code",
   "execution_count": 1,
   "id": "24aa8fd8-621d-4046-ac9d-ac3a05a37e8e",
   "metadata": {},
   "outputs": [
    {
     "data": {
      "application/javascript": [
       "if (typeof IPython !== 'undefined') { IPython.OutputArea.prototype._should_scroll = function(lines){ return false; }}"
      ],
      "text/plain": [
       "<IPython.core.display.Javascript object>"
      ]
     },
     "metadata": {},
     "output_type": "display_data"
    }
   ],
   "source": [
    "import pandas as pd\n",
    "import ixmp\n",
    "import message_ix\n",
    "\n",
    "%matplotlib inline"
   ]
  },
  {
   "cell_type": "code",
   "execution_count": 2,
   "id": "4656748f-cb4e-4be4-adc7-51d87b1333bc",
   "metadata": {},
   "outputs": [],
   "source": [
    "# Loading Modeling platform\n",
    "mp = ixmp.Platform()"
   ]
  },
  {
   "cell_type": "code",
   "execution_count": 3,
   "id": "023bbecf-31bb-4c6c-b748-05adfb5994f9",
   "metadata": {},
   "outputs": [],
   "source": [
    "# Creating a new, empty scenario\n",
    "scenario = message_ix.Scenario(mp, model='plastic', \n",
    "                               scenario='baseline', version='new')"
   ]
  },
  {
   "cell_type": "code",
   "execution_count": 4,
   "id": "ca61a52c-6204-4674-a739-d93c6eb40f39",
   "metadata": {},
   "outputs": [],
   "source": [
    "horizon = range(2020,2061,5)\n",
    "scenario.add_horizon(year=horizon)"
   ]
  },
  {
   "cell_type": "code",
   "execution_count": 5,
   "id": "3ec36491-c945-4879-852c-1446b1921252",
   "metadata": {},
   "outputs": [],
   "source": [
    "year_df = scenario.vintage_and_active_years()\n",
    "vintage_years, act_years = year_df['year_vtg'], year_df['year_act']"
   ]
  },
  {
   "cell_type": "code",
   "execution_count": 6,
   "id": "986c7d8e-4aba-45b4-9a3c-872203aa70ab",
   "metadata": {},
   "outputs": [],
   "source": [
    "node = 'Chinese'\n",
    "scenario.add_spatial_sets({'country': node})"
   ]
  },
  {
   "cell_type": "code",
   "execution_count": 7,
   "id": "10ed51fe-2748-4593-a3ba-21e4f62e7006",
   "metadata": {},
   "outputs": [],
   "source": [
    "scenario.add_set(\"commodity\", [\"coal\", \"oil\",\"electricity\", \"hydrogen\",\"carbon\",\"waste\",\"plastics\"])"
   ]
  },
  {
   "cell_type": "code",
   "execution_count": 8,
   "id": "68bd2bc7-64bc-4164-8ce7-930db5c519c2",
   "metadata": {},
   "outputs": [],
   "source": [
    "scenario.add_par(\"interestrate\", horizon, value=0.06, unit='-')"
   ]
  },
  {
   "cell_type": "code",
   "execution_count": 9,
   "id": "05b258e4-a166-4d37-84dd-567fd0efd572",
   "metadata": {},
   "outputs": [],
   "source": [
    "scenario.add_set(\"level\", [\"resource\",\"secondary\",\"final\",\"useful\"])"
   ]
  },
  {
   "cell_type": "code",
   "execution_count": 10,
   "id": "5cc8c261-9f1f-4766-bec7-0ca8ff9fc41a",
   "metadata": {},
   "outputs": [],
   "source": [
    "scenario.add_set('emission', 'CO2')\n",
    "scenario.add_cat('emission', 'GHG', 'CO2')"
   ]
  },
  {
   "cell_type": "code",
   "execution_count": 11,
   "id": "15f04d00-51f4-4584-a90c-744f627ea7b9",
   "metadata": {},
   "outputs": [],
   "source": [
    "from message_ix.util import make_df"
   ]
  },
  {
   "cell_type": "code",
   "execution_count": 12,
   "id": "e7292983-b55f-46d3-90c6-fe25f8e021b9",
   "metadata": {},
   "outputs": [],
   "source": [
    "scenario.read_excel(\"plastic_baseline_demand_1.xlsx\", add_units=True, commit_steps=False)"
   ]
  },
  {
   "cell_type": "code",
   "execution_count": 14,
   "id": "50036f71-a33c-4cd3-b9c5-812d37280054",
   "metadata": {},
   "outputs": [],
   "source": [
    "scenario.add_set(\"technology\", ['DAC','CCS','water_electrolysis','OTP','CTP','PTP','WTP','Transportation'])"
   ]
  },
  {
   "cell_type": "code",
   "execution_count": 15,
   "id": "74c219d2-92cc-4bed-bcfd-600ae324256b",
   "metadata": {},
   "outputs": [],
   "source": [
    "scenario.read_excel(\"plastic_baseline_technology_basic_1_resource.xlsx\", add_units=True, commit_steps=False)"
   ]
  },
  {
   "cell_type": "code",
   "execution_count": 18,
   "id": "da2cfad9-c4a0-4044-8373-db5d04c0eb78",
   "metadata": {},
   "outputs": [],
   "source": [
    "country = 'Chinese'"
   ]
  },
  {
   "cell_type": "code",
   "execution_count": 19,
   "id": "a7f1a5fc-5031-42ba-b852-bf5473123e78",
   "metadata": {},
   "outputs": [],
   "source": [
    "scenario.check_out()"
   ]
  },
  {
   "cell_type": "code",
   "execution_count": 20,
   "id": "91bdab75-3831-469c-9d82-404f6bf63d64",
   "metadata": {},
   "outputs": [],
   "source": [
    "scenario.add_set('emission', 'CO2')\n",
    "scenario.add_cat('emission', 'GHG', 'CO2')"
   ]
  },
  {
   "cell_type": "code",
   "execution_count": 21,
   "id": "2cc61dec-0626-4bb6-8194-b0d62dc7f9d8",
   "metadata": {},
   "outputs": [],
   "source": [
    "scenario.read_excel(\"emission_2.xlsx\", add_units=True, commit_steps=False)"
   ]
  },
  {
   "cell_type": "code",
   "execution_count": 23,
   "id": "7b4a9931-5e52-49d1-a2fb-b81197bbff53",
   "metadata": {},
   "outputs": [],
   "source": [
    "scenario.check_out()"
   ]
  },
  {
   "cell_type": "code",
   "execution_count": 24,
   "id": "ed3ff2e8-5fee-4055-b995-9541a49ab30b",
   "metadata": {},
   "outputs": [],
   "source": [
    "scenario.read_excel(\"plastic_baseline_technology_historic.xlsx\", add_units=True, commit_steps=False)"
   ]
  },
  {
   "cell_type": "code",
   "execution_count": 25,
   "id": "6c6de415-be3f-4be5-814e-3209c79e2697",
   "metadata": {},
   "outputs": [],
   "source": [
    "mp.add_unit('CNY/t')  "
   ]
  },
  {
   "cell_type": "code",
   "execution_count": 26,
   "id": "bb0c3568-3bdf-44c6-8a03-84d435336433",
   "metadata": {},
   "outputs": [],
   "source": [
    "mp.add_unit('CNY/KWh')  "
   ]
  },
  {
   "cell_type": "code",
   "execution_count": 27,
   "id": "c6a1c730-7f3a-4ac2-8221-2b726dc53b79",
   "metadata": {},
   "outputs": [],
   "source": [
    "scenario.read_excel(\"plastic_baseline_technology_economic-2.xlsx\", add_units=True, commit_steps=False)"
   ]
  },
  {
   "cell_type": "code",
   "execution_count": 28,
   "id": "01bd8001-8be6-4db5-bf39-9a9b4c982bd8",
   "metadata": {},
   "outputs": [],
   "source": [
    "scenario.check_out()"
   ]
  },
  {
   "cell_type": "code",
   "execution_count": 29,
   "id": "9a3ae8f8-eba3-4e91-a2e2-e5d7959ac76b",
   "metadata": {},
   "outputs": [],
   "source": [
    "year_df = scenario.vintage_and_active_years()\n",
    "vintage_years, act_years = year_df['year_vtg'], year_df['year_act']\n",
    "model_horizon = scenario.set('year')\n",
    "country = 'Chinese'"
   ]
  },
  {
   "cell_type": "code",
   "execution_count": 1,
   "id": "dc37b209-2ac6-475b-abf4-b457cf4c8747",
   "metadata": {},
   "outputs": [
    {
     "ename": "NameError",
     "evalue": "name 'scenario' is not defined",
     "output_type": "error",
     "traceback": [
      "\u001b[1;31m---------------------------------------------------------------------------\u001b[0m",
      "\u001b[1;31mNameError\u001b[0m                                 Traceback (most recent call last)",
      "Cell \u001b[1;32mIn[1], line 4\u001b[0m\n\u001b[0;32m      2\u001b[0m commodity\u001b[38;5;241m=\u001b[39m \u001b[38;5;124m'\u001b[39m\u001b[38;5;124mcoal\u001b[39m\u001b[38;5;124m'\u001b[39m\n\u001b[0;32m      3\u001b[0m level \u001b[38;5;241m=\u001b[39m \u001b[38;5;124m'\u001b[39m\u001b[38;5;124mresource\u001b[39m\u001b[38;5;124m'\u001b[39m\n\u001b[1;32m----> 4\u001b[0m \u001b[43mscenario\u001b[49m\u001b[38;5;241m.\u001b[39madd_set(\u001b[38;5;124m'\u001b[39m\u001b[38;5;124mcommodity\u001b[39m\u001b[38;5;124m'\u001b[39m, commodity)\n\u001b[0;32m      5\u001b[0m scenario\u001b[38;5;241m.\u001b[39madd_set(\u001b[38;5;124m'\u001b[39m\u001b[38;5;124mlevel\u001b[39m\u001b[38;5;124m'\u001b[39m, level)\n\u001b[0;32m      6\u001b[0m scenario\u001b[38;5;241m.\u001b[39madd_set(\u001b[38;5;124m'\u001b[39m\u001b[38;5;124mlevel_resource\u001b[39m\u001b[38;5;124m'\u001b[39m, level)\n",
      "\u001b[1;31mNameError\u001b[0m: name 'scenario' is not defined"
     ]
    }
   ],
   "source": [
    "# coal\n",
    "commodity= 'coal'\n",
    "level = 'resource'\n",
    "scenario.add_set('commodity', commodity)\n",
    "scenario.add_set('level', level)\n",
    "scenario.add_set('level_resource', level)\n",
    "scenario.add_set('grade', ['a', 'b'])"
   ]
  },
  {
   "cell_type": "code",
   "execution_count": 31,
   "id": "5b5270bd-7f72-49fc-9c85-89996be844e6",
   "metadata": {},
   "outputs": [],
   "source": [
    "year_df = scenario.vintage_and_active_years()\n",
    "vintage_years, act_years = year_df['year_vtg'], year_df['year_act']\n",
    "model_horizon = scenario.set('year')\n",
    "country = 'Chinese'"
   ]
  },
  {
   "cell_type": "code",
   "execution_count": 32,
   "id": "2031cfec-0f01-48b9-81e5-95e184386016",
   "metadata": {},
   "outputs": [],
   "source": [
    "potentials = {'a': [300000000000, 800, 28000090000],#750 300000000000000 325\n",
    "              'b': [0, 800, 0]}#800"
   ]
  },
  {
   "cell_type": "code",
   "execution_count": 33,
   "id": "1e1c3866-c54d-4791-995c-047f903ed560",
   "metadata": {},
   "outputs": [],
   "source": [
    "# Adding required information via MESSAGEix sets\n",
    "for grade in potentials.keys():\n",
    "\n",
    "    # Adding resource potentials\n",
    "    # The index sets for resource_volume are ['node', 'commodity', 'grade', 'value', 'unit']\n",
    "    df = pd.DataFrame({'node': [country],\n",
    "                       'commodity': commodity,\n",
    "                       'grade': grade,\n",
    "                       'value': potentials[grade][0],\n",
    "                       'unit': 't'})\n",
    "    scenario.add_par('resource_volume', df)\n",
    "    \n",
    "    # Adding resource costs\n",
    "    # The index sets for resource_cost are ['node', 'commodity', 'grade', 'year', 'value', 'unit']\n",
    "    df = pd.DataFrame({'node': country,\n",
    "                       'commodity': commodity,\n",
    "                       'grade': grade,\n",
    "                       'year': model_horizon.values.tolist(),\n",
    "                       'value': potentials[grade][1],\n",
    "                       'unit': 'CNY/t'})\n",
    "    scenario.add_par('resource_cost', df)\n",
    "    \n",
    "    # Adding historical extraction\n",
    "    # The index sets for historical_extraction are ['node', 'commodity', 'grade', 'year', 'value', 'unit']\n",
    "    df = pd.DataFrame({'node': country,\n",
    "                       'commodity': commodity,\n",
    "                       'grade': grade,\n",
    "                       'year': [2020],\n",
    "                       'value':  potentials[grade][2],\n",
    "                       'unit': 't'})\n",
    "    scenario.add_par('historical_extraction', df)"
   ]
  },
  {
   "cell_type": "code",
   "execution_count": 35,
   "id": "9687e1d5-a094-4500-babe-12e93e7193c8",
   "metadata": {},
   "outputs": [],
   "source": [
    "#  oil\n",
    "commodity= 'oil'\n",
    "level = 'resource'\n",
    "scenario.add_set('commodity', commodity)\n",
    "scenario.add_set('level', level)\n",
    "scenario.add_set('level_resource', level)\n",
    "scenario.add_set('grade', ['a', 'b'])\n",
    "\n",
    "year_df = scenario.vintage_and_active_years()\n",
    "vintage_years, act_years = year_df['year_vtg'], year_df['year_act']\n",
    "model_horizon = scenario.set('year')\n",
    "country = 'Chinese'\n",
    "\n",
    "potentials = {'a': [15000000000, 2144, 280],#5000 2144\n",
    "              'b': [0, 6000, 0]} #6000"
   ]
  },
  {
   "cell_type": "code",
   "execution_count": 36,
   "id": "b91878bd-ebd3-41ee-aefa-8eb842d3ff00",
   "metadata": {},
   "outputs": [],
   "source": [
    "# Adding required information via MESSAGEix sets\n",
    "for grade in potentials.keys():\n",
    "\n",
    "    # Adding resource potentials\n",
    "    # The index sets for resource_volume are ['node', 'commodity', 'grade', 'value', 'unit']\n",
    "    df = pd.DataFrame({'node': [country],\n",
    "                       'commodity': commodity,\n",
    "                       'grade': grade,\n",
    "                       'value': potentials[grade][0],\n",
    "                       'unit': 't'})\n",
    "    scenario.add_par('resource_volume', df)\n",
    "    \n",
    "    # Adding resource costs\n",
    "    # The index sets for resource_cost are ['node', 'commodity', 'grade', 'year', 'value', 'unit']\n",
    "    df = pd.DataFrame({'node': country,\n",
    "                       'commodity': commodity,\n",
    "                       'grade': grade,\n",
    "                       'year': model_horizon.values.tolist(),\n",
    "                       'value': potentials[grade][1],\n",
    "                       'unit': 'CNY/t'})\n",
    "    scenario.add_par('resource_cost', df)\n",
    "    \n",
    "    # Adding historical extraction\n",
    "    # The index sets for historical_extraction are ['node', 'commodity', 'grade', 'year', 'value', 'unit']\n",
    "    df = pd.DataFrame({'node': country,\n",
    "                       'commodity': commodity,\n",
    "                       'grade': grade,\n",
    "                       'year': [2020],\n",
    "                       'value':  potentials[grade][2],\n",
    "                       'unit': 't'})\n",
    "    scenario.add_par('historical_extraction', df)"
   ]
  },
  {
   "cell_type": "code",
   "execution_count": 38,
   "id": "f1498b70-6e49-46ee-9678-11f7e9bc4c21",
   "metadata": {},
   "outputs": [],
   "source": [
    "# electricity\n",
    "commodity= 'electricity'\n",
    "level = 'resource'\n",
    "scenario.add_set('commodity', commodity)\n",
    "scenario.add_set('level', level)\n",
    "scenario.add_set('level_resource', level)\n",
    "scenario.add_set('grade', ['a'])\n",
    "\n",
    "year_df = scenario.vintage_and_active_years()\n",
    "vintage_years, act_years = year_df['year_vtg'], year_df['year_act']\n",
    "model_horizon = scenario.set('year')\n",
    "country = 'Chinese'\n",
    "\n",
    "potentials = {'a': [150000000000000000, 0.2, 280]}"
   ]
  },
  {
   "cell_type": "code",
   "execution_count": 39,
   "id": "7af63890-91fe-4cb1-96eb-1ee7e181551b",
   "metadata": {},
   "outputs": [],
   "source": [
    "# Adding required information via MESSAGEix sets\n",
    "for grade in potentials.keys():\n",
    "\n",
    "    # Adding resource potentials\n",
    "    # The index sets for resource_volume are ['node', 'commodity', 'grade', 'value', 'unit']\n",
    "    df = pd.DataFrame({'node': [country],\n",
    "                       'commodity': commodity,\n",
    "                       'grade': grade,\n",
    "                       'value': potentials[grade][0],\n",
    "                       'unit': 'KWh'})\n",
    "    scenario.add_par('resource_volume', df)\n",
    "    \n",
    "    # Adding resource costs\n",
    "    # The index sets for resource_cost are ['node', 'commodity', 'grade', 'year', 'value', 'unit']\n",
    "    df = pd.DataFrame({'node': country,\n",
    "                       'commodity': commodity,\n",
    "                       'grade': grade,\n",
    "                       'year': model_horizon.values.tolist(),\n",
    "                       'value': potentials[grade][1],\n",
    "                       'unit': 'CNY/KWh'})\n",
    "    scenario.add_par('resource_cost', df)\n",
    "    \n",
    "    # Adding historical extraction\n",
    "    # The index sets for historical_extraction are ['node', 'commodity', 'grade', 'year', 'value', 'unit']\n",
    "    df = pd.DataFrame({'node': country,\n",
    "                       'commodity': commodity,\n",
    "                       'grade': grade,\n",
    "                       'year': [2020],\n",
    "                       'value':  potentials[grade][2],\n",
    "                       'unit': 'KWh'})\n",
    "    scenario.add_par('historical_extraction', df)"
   ]
  },
  {
   "cell_type": "code",
   "execution_count": 41,
   "id": "0df5f69d-41fc-42ec-adaa-d496f1ddbf36",
   "metadata": {},
   "outputs": [],
   "source": [
    "# waste plastic\n",
    "commodity= 'waste'\n",
    "level = 'resource'\n",
    "scenario.add_set('commodity', commodity)\n",
    "scenario.add_set('level', level)\n",
    "scenario.add_set('level_resource', level)\n",
    "scenario.add_set('grade', ['a'])\n",
    "\n",
    "year_df = scenario.vintage_and_active_years()\n",
    "vintage_years, act_years = year_df['year_vtg'], year_df['year_act']\n",
    "model_horizon = scenario.set('year')\n",
    "country = 'Chinese'\n",
    "\n",
    "potentials = {'a': [800000000000000000,1775,280]}\n",
    "\n"
   ]
  },
  {
   "cell_type": "code",
   "execution_count": 42,
   "id": "6e972708-738a-4eba-8e2b-b35e5d8ed510",
   "metadata": {},
   "outputs": [],
   "source": [
    "# Adding required information via MESSAGEix sets\n",
    "for grade in potentials.keys():\n",
    "\n",
    "    # Adding resource potentials\n",
    "    # The index sets for resource_volume are ['node', 'commodity', 'grade', 'value', 'unit']\n",
    "    df = pd.DataFrame({'node': [country],\n",
    "                       'commodity': commodity,\n",
    "                       'grade': grade,\n",
    "                       'value': potentials[grade][0],\n",
    "                       'unit': 'KWh'})\n",
    "    scenario.add_par('resource_volume', df)\n",
    "    \n",
    "    # Adding resource costs\n",
    "    # The index sets for resource_cost are ['node', 'commodity', 'grade', 'year', 'value', 'unit']\n",
    "    df = pd.DataFrame({'node': country,\n",
    "                       'commodity': commodity,\n",
    "                       'grade': grade,\n",
    "                       'year': model_horizon.values.tolist(),\n",
    "                       'value': potentials[grade][1],\n",
    "                       'unit': 'CNY/KWh'})\n",
    "    scenario.add_par('resource_cost', df)\n",
    "    \n",
    "    # Adding historical extraction\n",
    "    # The index sets for historical_extraction are ['node', 'commodity', 'grade', 'year', 'value', 'unit']\n",
    "    df = pd.DataFrame({'node': country,\n",
    "                       'commodity': commodity,\n",
    "                       'grade': grade,\n",
    "                       'year': [2020],\n",
    "                       'value':  potentials[grade][2],\n",
    "                       'unit': 'KWh'})\n",
    "    scenario.add_par('historical_extraction', df)"
   ]
  },
  {
   "cell_type": "code",
   "execution_count": 43,
   "id": "6d9d9846-a89e-4508-ab13-6e76208b102d",
   "metadata": {},
   "outputs": [],
   "source": [
    "# First we introduce the emission of CO2 and the emission category GHG\n",
    "scenario.add_set(\"emission\", \"CO2\")\n",
    "scenario.add_cat(\"emission\", \"GHG\", \"CO2\")\n",
    "\n",
    "# Then we add new units to the model library (needed only once)\n",
    "mp.add_unit(\"tCO2/t\")\n",
    "mp.add_unit(\"kgCO2/m3\")\n",
    "mp.add_unit(\"MtCO2\")"
   ]
  },
  {
   "cell_type": "code",
   "execution_count": 44,
   "id": "a3727134-32e7-406d-8e1f-e11645ef0700",
   "metadata": {},
   "outputs": [],
   "source": [
    "year_df = scenario.vintage_and_active_years()\n",
    "vintage_years, act_years = year_df[\"year_vtg\"], year_df[\"year_act\"]\n",
    "model_horizon = scenario.set(\"year\")\n",
    "country = \"Chinese\""
   ]
  },
  {
   "cell_type": "code",
   "execution_count": 45,
   "id": "60307f36-3c49-4c7c-a565-e98aa434d6e8",
   "metadata": {},
   "outputs": [],
   "source": [
    "scenario.read_excel(\"emission_2.xlsx\", add_units=True, commit_steps=False)"
   ]
  },
  {
   "cell_type": "code",
   "execution_count": 46,
   "id": "110cc994-3864-413f-b9e0-5f867e9aee7d",
   "metadata": {},
   "outputs": [
    {
     "data": {
      "text/html": [
       "<div>\n",
       "<style scoped>\n",
       "    .dataframe tbody tr th:only-of-type {\n",
       "        vertical-align: middle;\n",
       "    }\n",
       "\n",
       "    .dataframe tbody tr th {\n",
       "        vertical-align: top;\n",
       "    }\n",
       "\n",
       "    .dataframe thead th {\n",
       "        text-align: right;\n",
       "    }\n",
       "</style>\n",
       "<table border=\"1\" class=\"dataframe\">\n",
       "  <thead>\n",
       "    <tr style=\"text-align: right;\">\n",
       "      <th></th>\n",
       "      <th>node_loc</th>\n",
       "      <th>technology</th>\n",
       "      <th>year_vtg</th>\n",
       "      <th>year_act</th>\n",
       "      <th>mode</th>\n",
       "      <th>emission</th>\n",
       "      <th>value</th>\n",
       "      <th>unit</th>\n",
       "    </tr>\n",
       "  </thead>\n",
       "  <tbody>\n",
       "    <tr>\n",
       "      <th>0</th>\n",
       "      <td>Chinese</td>\n",
       "      <td>CCS</td>\n",
       "      <td>2020</td>\n",
       "      <td>2060</td>\n",
       "      <td>standard</td>\n",
       "      <td>CO2</td>\n",
       "      <td>2.50</td>\n",
       "      <td>tCO2/t</td>\n",
       "    </tr>\n",
       "    <tr>\n",
       "      <th>1</th>\n",
       "      <td>Chinese</td>\n",
       "      <td>CCS</td>\n",
       "      <td>2025</td>\n",
       "      <td>2060</td>\n",
       "      <td>standard</td>\n",
       "      <td>CO2</td>\n",
       "      <td>2.50</td>\n",
       "      <td>tCO2/t</td>\n",
       "    </tr>\n",
       "    <tr>\n",
       "      <th>2</th>\n",
       "      <td>Chinese</td>\n",
       "      <td>CCS</td>\n",
       "      <td>2030</td>\n",
       "      <td>2060</td>\n",
       "      <td>standard</td>\n",
       "      <td>CO2</td>\n",
       "      <td>2.50</td>\n",
       "      <td>tCO2/t</td>\n",
       "    </tr>\n",
       "    <tr>\n",
       "      <th>3</th>\n",
       "      <td>Chinese</td>\n",
       "      <td>CCS</td>\n",
       "      <td>2035</td>\n",
       "      <td>2060</td>\n",
       "      <td>standard</td>\n",
       "      <td>CO2</td>\n",
       "      <td>2.50</td>\n",
       "      <td>tCO2/t</td>\n",
       "    </tr>\n",
       "    <tr>\n",
       "      <th>4</th>\n",
       "      <td>Chinese</td>\n",
       "      <td>CCS</td>\n",
       "      <td>2040</td>\n",
       "      <td>2060</td>\n",
       "      <td>standard</td>\n",
       "      <td>CO2</td>\n",
       "      <td>2.50</td>\n",
       "      <td>tCO2/t</td>\n",
       "    </tr>\n",
       "    <tr>\n",
       "      <th>...</th>\n",
       "      <td>...</td>\n",
       "      <td>...</td>\n",
       "      <td>...</td>\n",
       "      <td>...</td>\n",
       "      <td>...</td>\n",
       "      <td>...</td>\n",
       "      <td>...</td>\n",
       "      <td>...</td>\n",
       "    </tr>\n",
       "    <tr>\n",
       "      <th>193</th>\n",
       "      <td>Chinese</td>\n",
       "      <td>WTP</td>\n",
       "      <td>2050</td>\n",
       "      <td>2055</td>\n",
       "      <td>standard</td>\n",
       "      <td>CO2</td>\n",
       "      <td>1.58</td>\n",
       "      <td>tCO2/t</td>\n",
       "    </tr>\n",
       "    <tr>\n",
       "      <th>194</th>\n",
       "      <td>Chinese</td>\n",
       "      <td>WTP</td>\n",
       "      <td>2050</td>\n",
       "      <td>2060</td>\n",
       "      <td>standard</td>\n",
       "      <td>CO2</td>\n",
       "      <td>1.51</td>\n",
       "      <td>tCO2/t</td>\n",
       "    </tr>\n",
       "    <tr>\n",
       "      <th>195</th>\n",
       "      <td>Chinese</td>\n",
       "      <td>WTP</td>\n",
       "      <td>2055</td>\n",
       "      <td>2055</td>\n",
       "      <td>standard</td>\n",
       "      <td>CO2</td>\n",
       "      <td>1.58</td>\n",
       "      <td>tCO2/t</td>\n",
       "    </tr>\n",
       "    <tr>\n",
       "      <th>196</th>\n",
       "      <td>Chinese</td>\n",
       "      <td>WTP</td>\n",
       "      <td>2055</td>\n",
       "      <td>2060</td>\n",
       "      <td>standard</td>\n",
       "      <td>CO2</td>\n",
       "      <td>1.51</td>\n",
       "      <td>tCO2/t</td>\n",
       "    </tr>\n",
       "    <tr>\n",
       "      <th>197</th>\n",
       "      <td>Chinese</td>\n",
       "      <td>WTP</td>\n",
       "      <td>2060</td>\n",
       "      <td>2060</td>\n",
       "      <td>standard</td>\n",
       "      <td>CO2</td>\n",
       "      <td>1.51</td>\n",
       "      <td>tCO2/t</td>\n",
       "    </tr>\n",
       "  </tbody>\n",
       "</table>\n",
       "<p>198 rows × 8 columns</p>\n",
       "</div>"
      ],
      "text/plain": [
       "    node_loc technology  year_vtg  year_act      mode emission  value    unit\n",
       "0    Chinese        CCS      2020      2060  standard      CO2   2.50  tCO2/t\n",
       "1    Chinese        CCS      2025      2060  standard      CO2   2.50  tCO2/t\n",
       "2    Chinese        CCS      2030      2060  standard      CO2   2.50  tCO2/t\n",
       "3    Chinese        CCS      2035      2060  standard      CO2   2.50  tCO2/t\n",
       "4    Chinese        CCS      2040      2060  standard      CO2   2.50  tCO2/t\n",
       "..       ...        ...       ...       ...       ...      ...    ...     ...\n",
       "193  Chinese        WTP      2050      2055  standard      CO2   1.58  tCO2/t\n",
       "194  Chinese        WTP      2050      2060  standard      CO2   1.51  tCO2/t\n",
       "195  Chinese        WTP      2055      2055  standard      CO2   1.58  tCO2/t\n",
       "196  Chinese        WTP      2055      2060  standard      CO2   1.51  tCO2/t\n",
       "197  Chinese        WTP      2060      2060  standard      CO2   1.51  tCO2/t\n",
       "\n",
       "[198 rows x 8 columns]"
      ]
     },
     "execution_count": 46,
     "metadata": {},
     "output_type": "execute_result"
    }
   ],
   "source": [
    "scenario.par(\"emission_factor\")"
   ]
  },
  {
   "cell_type": "code",
   "execution_count": 49,
   "id": "218bbea7-512c-463b-b961-21ff77053f62",
   "metadata": {},
   "outputs": [],
   "source": [
    "scenario.check_out()"
   ]
  },
  {
   "cell_type": "code",
   "execution_count": 50,
   "id": "2ee83401-ffc6-4e2f-902f-4e852ca6bf11",
   "metadata": {},
   "outputs": [],
   "source": [
    "scenario.add_par(\"bound_emission\", [country, \"GHG\", \"all\", \"cumulative\"], value=2.7E+08, unit=\"tCO2\") # 给 WTP加上线后的理想排放值"
   ]
  },
  {
   "cell_type": "code",
   "execution_count": 77,
   "id": "da160e67-6c74-4090-bcd3-5011629250ec",
   "metadata": {},
   "outputs": [],
   "source": [
    "scenario.solve()"
   ]
  },
  {
   "cell_type": "code",
   "execution_count": 78,
   "id": "b89be297-ea10-4ee5-a0a6-5adf46f16794",
   "metadata": {},
   "outputs": [
    {
     "data": {
      "text/plain": [
       "24642188214272.0"
      ]
     },
     "execution_count": 78,
     "metadata": {},
     "output_type": "execute_result"
    }
   ],
   "source": [
    "scenario.var('OBJ')['lvl']"
   ]
  },
  {
   "cell_type": "code",
   "execution_count": 79,
   "id": "5b46ae0a-0f74-4ca5-a52f-3ecb78b9c0d7",
   "metadata": {},
   "outputs": [
    {
     "name": "stdout",
     "output_type": "stream",
     "text": [
      " 172164899.556\n"
     ]
    }
   ],
   "source": [
    "# Filter the DataFrame to include only rows where 'region' is 'Chinese' and 'type_tec' is 'all'\n",
    "filtered_emiss = scenario.var('EMISS')[(scenario.var('EMISS')['node'] == 'Chinese') & (scenario.var('EMISS')['type_tec'] == 'CTP')]\n",
    "\n",
    "# Sum the 'lvl' values for the filtered DataFrame\n",
    "filtered_emiss_sum = filtered_emiss['lvl'].sum()\n",
    "\n",
    "# Display the sum\n",
    "print(f\" {filtered_emiss_sum}\")\n"
   ]
  },
  {
   "cell_type": "code",
   "execution_count": 80,
   "id": "6df32df9-3f03-4f92-a1bc-7e6e9e062982",
   "metadata": {},
   "outputs": [],
   "source": [
    "from message_ix.reporting import Reporter\n",
    "from message_ix.util.tutorial import prepare_plots\n",
    "rep = Reporter.from_scenario(scenario)\n",
    "prepare_plots(rep)"
   ]
  },
  {
   "cell_type": "code",
   "execution_count": 81,
   "id": "bb31c1ca-f4ef-437b-9302-2015deb7f503",
   "metadata": {},
   "outputs": [
    {
     "data": {
      "text/plain": [
       "<Axes: title={'center': 'Chinese Energy System Activity'}, xlabel='Year', ylabel='GWa'>"
      ]
     },
     "execution_count": 81,
     "metadata": {},
     "output_type": "execute_result"
    },
    {
     "data": {
      "image/png": "[encoded data removed]",
      "text/plain": [
       "<Figure size 640x480 with 1 Axes>"
      ]
     },
     "metadata": {},
     "output_type": "display_data"
    }
   ],
   "source": [
    "rep.set_filters(t=['CTP','WTP','OTP','PTP','BTP'])\n",
    "rep.get(\"plot activity\")"
   ]
  },
  {
   "cell_type": "code",
   "execution_count": 82,
   "id": "bbfc0111-9361-441f-80ef-62ff17b62ebe",
   "metadata": {},
   "outputs": [
    {
     "data": {
      "text/plain": [
       "<Axes: title={'center': 'Chinese Energy System Capacity'}, xlabel='Year', ylabel='GW'>"
      ]
     },
     "execution_count": 82,
     "metadata": {},
     "output_type": "execute_result"
    },
    {
     "data": {
      "image/png": "[encoded data removed]",
      "text/plain": [
       "<Figure size 640x480 with 1 Axes>"
      ]
     },
     "metadata": {},
     "output_type": "display_data"
    }
   ],
   "source": [
    "rep.set_filters(t=['CTP','WTP','OTP','PTP','BTP'])\n",
    "rep.get(\"plot capacity\")"
   ]
  },
  {
   "cell_type": "code",
   "execution_count": 83,
   "id": "855d6a38-3b6e-4b04-aaf3-de47f0c815ec",
   "metadata": {},
   "outputs": [
    {
     "data": {
      "text/plain": [
       "<Axes: title={'center': 'Chinese Energy System Activity'}, xlabel='Year', ylabel='GWa'>"
      ]
     },
     "execution_count": 83,
     "metadata": {},
     "output_type": "execute_result"
    },
    {
     "data": {
      "image/png": "[encoded data removed]",
      "text/plain": [
       "<Figure size 640x480 with 1 Axes>"
      ]
     },
     "metadata": {},
     "output_type": "display_data"
    }
   ],
   "source": [
    "rep.set_filters(t=['DAC','CCS'])\n",
    "rep.get(\"plot activity\")"
   ]
  },
  {
   "cell_type": "code",
   "execution_count": 84,
   "id": "165fdb8a-3505-4621-8827-1f805fee1fdd",
   "metadata": {},
   "outputs": [],
   "source": [
    "mp.close_db()"
   ]
  },
  {
   "cell_type": "code",
   "execution_count": null,
   "id": "eeb782b9-0aef-46be-8dda-5a451892b8c6",
   "metadata": {},
   "outputs": [],
   "source": []
  },
  {
   "cell_type": "code",
   "execution_count": null,
   "id": "5daa2fc6-db58-4475-9123-6960f0420af6",
   "metadata": {},
   "outputs": [],
   "source": []
  }
 ],
 "metadata": {
  "kernelspec": {
   "display_name": "Python 3 (ipykernel)",
   "language": "python",
   "name": "python3"
  },
  "language_info": {
   "codemirror_mode": {
    "name": "ipython",
    "version": 3
   },
   "file_extension": ".py",
   "mimetype": "text/x-python",
   "name": "python",
   "nbconvert_exporter": "python",
   "pygments_lexer": "ipython3",
   "version": "3.10.12"
  }
 },
 "nbformat": 4,
 "nbformat_minor": 5
}
